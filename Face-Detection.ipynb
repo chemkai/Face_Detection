{
 "cells": [
  {
   "cell_type": "code",
   "execution_count": 1,
   "id": "aa1d8ab9-538d-4e16-bbc8-18ed8c5de9c4",
   "metadata": {
    "tags": []
   },
   "outputs": [],
   "source": [
    "# Importing the dependencies\n",
    "import cv2\n",
    "import os\n",
    "import numpy as np"
   ]
  },
  {
   "cell_type": "code",
   "execution_count": 3,
   "id": "9b00b345-3f23-43da-b666-212a1002fa9a",
   "metadata": {
    "tags": []
   },
   "outputs": [],
   "source": [
    "face_cascade = cv2.CascadeClassifier('lbpcascade_frontalface.xml')\n",
    "subjects = ['Charlie', 'Dalih', 'Nashmoni', 'Nychongsa', 'Pongjon', 'Chemkai']"
   ]
  },
  {
   "cell_type": "code",
   "execution_count": 5,
   "id": "73e74227-ec55-4896-af53-e3fc68d8f08b",
   "metadata": {
    "tags": []
   },
   "outputs": [],
   "source": [
    "# Function to detect faces in opencv\n",
    "def detect_face(img):\n",
    "    gray = cv2.cvtColor(img,cv2.COLOR_BGR2GRAY) #Converting the image into grayScale\n",
    "    \n",
    "    faces = face_cascade.detectMultiScale(gray, scaleFactor=1.2, minNeighbors=5) #Detecting multiscale images; returns a list of faces\n",
    "    if len(faces)==0:\n",
    "        return None,None\n",
    "    \n",
    "    # Assuming that there is only a single face\n",
    "    (x,y,w,h) = faces[0]\n",
    "    \n",
    "    return gray[y:y+w, x:x+h], faces[0] # Return only the face area"
   ]
  },
  {
   "cell_type": "code",
   "execution_count": 7,
   "id": "42d43a95-5dcb-4c51-9f77-24e979f75371",
   "metadata": {
    "tags": []
   },
   "outputs": [],
   "source": [
    "# Data preparation\n",
    "def prepare_training_data(data_folder_path):\n",
    "    # Getting the directories for each subject in the data folder\n",
    "    dirs = os.listdir(data_folder_path)\n",
    "    faces, labels = [], [] # Lists to hold the faces and labels of the dataset\n",
    "    \n",
    "    for dir_name in dirs: # Reading all the directories and going through the faces\n",
    "        if not dir_name.startswith(\"S\"): \n",
    "            continue #Ignoring the folders which aren't faces\n",
    "        label = int(dir_name.replace(\"S\",\"\"))\n",
    "        subject_dir_path = data_folder_path + \"/\" + dir_name \n",
    "        subject_images_names = os.listdir(subject_dir_path) # Getting the image names that are inside the directories\n",
    " \n",
    "        #------STEP-3--------\n",
    "        #go through each image name, read image, \n",
    "        #detect face and add face to list of faces\n",
    "        for image_name in subject_images_names:\n",
    "        #ignore system files like .DS_Store\n",
    "            if image_name.startswith(\".\"):\n",
    "                continue\n",
    "            #build image path\n",
    "            #sample image path = training-data/s1/1.pgm\n",
    "            image_path = subject_dir_path + \"/\" + image_name\n",
    "    \n",
    "            image = cv2.imread(image_path)\n",
    "            #detect face\n",
    "            face, rect = detect_face(image)\n",
    "            if face is not None:\n",
    "                #add face to list of faces\n",
    "                faces.append(face)\n",
    "                #add label for this face\n",
    "                labels.append(label)\n",
    " \n",
    "    cv2.destroyAllWindows()\n",
    "    cv2.waitKey(1)\n",
    "    cv2.destroyAllWindows()\n",
    " \n",
    "    return faces, labels"
   ]
  },
  {
   "cell_type": "code",
   "execution_count": 9,
   "id": "7b0c0e0e-a8c2-41c9-8202-0b1cde45e36f",
   "metadata": {
    "tags": []
   },
   "outputs": [
    {
     "name": "stdout",
     "output_type": "stream",
     "text": [
      "Data prepared\n",
      "Total faces:  152\n",
      "Total labels:  152\n"
     ]
    }
   ],
   "source": [
    "faces, labels = prepare_training_data(\"Dataset\")\n",
    "print(\"Data prepared\")\n",
    "\n",
    "#print total faces and labels\n",
    "print(\"Total faces: \", len(faces))\n",
    "print(\"Total labels: \", len(labels))"
   ]
  },
  {
   "cell_type": "code",
   "execution_count": 10,
   "id": "e59418ae-39dc-4464-9cb9-6e1805f88cc1",
   "metadata": {
    "tags": []
   },
   "outputs": [],
   "source": [
    "face_recognizer = cv2.face.LBPHFaceRecognizer_create()"
   ]
  },
  {
   "cell_type": "code",
   "execution_count": 11,
   "id": "02f27a7b-5ae2-48ca-8902-b6dca045b6b4",
   "metadata": {
    "tags": []
   },
   "outputs": [],
   "source": [
    "face_recognizer.train(faces, np.array(labels))"
   ]
  },
  {
   "cell_type": "code",
   "execution_count": 12,
   "id": "6a3f0a99-4b12-461e-b183-a1123335c781",
   "metadata": {},
   "outputs": [],
   "source": [
    "def draw_rectangle(img, rect):\n",
    "    (x, y, w, h) = rect\n",
    "    cv2.rectangle(img, (x, y), (x+w, y+h), (0, 255, 0), 2)\n",
    " \n",
    "#function to draw text on give image starting from\n",
    "#passed (x, y) coordinates. \n",
    "def draw_text(img, text, x, y):\n",
    "    cv2.putText(img, text, (x, y), cv2.FONT_HERSHEY_PLAIN, 1.5, (0, 255, 0), 2)"
   ]
  },
  {
   "cell_type": "code",
   "execution_count": 13,
   "id": "42b43b07-317c-4ec4-bb81-8575982bfffd",
   "metadata": {
    "tags": []
   },
   "outputs": [],
   "source": [
    "def predict(test_img):\n",
    "    #make a copy of the image as we don't want to change original image\n",
    "    img = test_img.copy()\n",
    "    #detect face from the image\n",
    "    face, rect = detect_face(img)\n",
    "\n",
    "    #predict the image using our face recognizer \n",
    "    label = face_recognizer.predict(face)\n",
    "    #get name of respective label returned by face recognizer\n",
    "    label_text = subjects[label[0]-1]\n",
    "    print(label_text)\n",
    " \n",
    "    #draw a rectangle around face detected\n",
    "    draw_rectangle(img, rect)\n",
    "    #draw name of predicted person\n",
    "    #draw_text(img, label_text, rect[0], rect[1]-5)\n",
    "    cv2.putText(img, label_text, (rect[0], rect[1]-5),cv2.FONT_HERSHEY_PLAIN, 10, (0, 255, 0), 2)\n",
    "    \n",
    "    return img\n"
   ]
  },
  {
   "cell_type": "code",
   "execution_count": null,
   "id": "2707387b-88fb-46e8-9be2-2558b5cb3b60",
   "metadata": {
    "tags": []
   },
   "outputs": [
    {
     "name": "stdout",
     "output_type": "stream",
     "text": [
      "Predicting images...\n",
      "Chemkai\n",
      "Nychongsa\n",
      "Prediction complete\n"
     ]
    }
   ],
   "source": [
    "print(\"Predicting images...\")\n",
    "\n",
    "#load test images\n",
    "test_img1 = cv2.imread(\"test_image.jpg\")\n",
    "test_img2 = cv2.imread(\"test_image1.jpg\")\n",
    "\n",
    "#perform a prediction\n",
    "predicted_img1 = predict(test_img1)\n",
    "predicted_img2 = predict(test_img2)\n",
    "print(\"Prediction complete\")\n",
    "\n",
    "#display both images\n",
    "im1 = cv2.resize(predicted_img1, (960, 540))\n",
    "im2 = cv2.resize(predicted_img2, (960, 540))\n",
    "cv2.imshow(subjects[1], im1)\n",
    "cv2.imshow(subjects[2], im2)\n",
    "cv2.waitKey(0)\n",
    "cv2.destroyAllWindows()\n"
   ]
  },
  {
   "cell_type": "code",
   "execution_count": null,
   "id": "8ed0af1f-a689-4927-990d-e7baef2378cc",
   "metadata": {},
   "outputs": [],
   "source": []
  }
 ],
 "metadata": {
  "kernelspec": {
   "display_name": "Python 3 (ipykernel)",
   "language": "python",
   "name": "python3"
  },
  "language_info": {
   "codemirror_mode": {
    "name": "ipython",
    "version": 3
   },
   "file_extension": ".py",
   "mimetype": "text/x-python",
   "name": "python",
   "nbconvert_exporter": "python",
   "pygments_lexer": "ipython3",
   "version": "3.11.4"
  }
 },
 "nbformat": 4,
 "nbformat_minor": 5
}
